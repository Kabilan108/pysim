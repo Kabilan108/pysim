{
 "cells": [
  {
   "attachments": {},
   "cell_type": "markdown",
   "metadata": {},
   "source": [
    "# `PySim` Example: Knee Jerk Model\n",
    "\n",
    "This notebook demonstrates how to use `PySim` to run a Simulink model from Python.\n",
    "\n",
    "## The Model\n",
    "\n",
    "Here, we will use a simple model of the knee jerk (myotatic) reflex (shown \n",
    "below). This model aims to predict the angular displacement of the knee joint\n",
    "in response to a sudden application of force to the patella tendon - modeled\n",
    "as a step moment at the knee joint.\n",
    "\n",
    "<img src=\"assets/myotatic-reflex.png\" width=\"400\" style=\"display: block; margin-left: auto; margin-right: auto;\">\n",
    "\n",
    "The following equation describes the dynamics of the knee joint:\n",
    "$$\n",
    "M(t) = m_{leg} \\cdot L_{leg}^2 \\cdot \\ddot{\\theta}(t) \n",
    "+ \\beta \\cdot \\ddot{\\theta}(t) \n",
    "+ K_\\theta \\cdot \\theta(t)\n",
    "$$\n",
    "Where $M(t)$ is the moment applied to the knee joint, $\\theta(t)$ is the angular\n",
    "displacement of the knee joint, $m_{leg}$ is the mass of the leg, $L_{leg}$ is\n",
    "the length of the leg, $\\beta$ is the damping coefficient, and $K_\\theta$ is the\n",
    "stiffness of the knee joint.\n",
    "\n",
    "The model is implemented in Simulink as shown below:\n",
    "\n",
    "<img src=\"assets/knee-jerk-v1.png\" width=\"600\" style=\"display: block; margin-left: auto; margin-right: auto;\">"
   ]
  }
 ],
 "metadata": {
  "kernelspec": {
   "display_name": "matlab",
   "language": "python",
   "name": "python3"
  },
  "language_info": {
   "name": "python",
   "version": "3.9.12"
  },
  "orig_nbformat": 4
 },
 "nbformat": 4,
 "nbformat_minor": 2
}
